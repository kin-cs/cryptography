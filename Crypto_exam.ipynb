{
 "cells": [
  {
   "cell_type": "markdown",
   "metadata": {},
   "source": [
    "# GCD & Multiplicative Inverse"
   ]
  },
  {
   "cell_type": "code",
   "execution_count": 3,
   "metadata": {
    "collapsed": true
   },
   "outputs": [],
   "source": [
    "import math\n",
    "\n",
    "def phi(n):\n",
    "    amount = 0        \n",
    "    for k in range(1, n + 1):\n",
    "        if math.gcd(n, k) == 1:\n",
    "            amount += 1\n",
    "    return amount\n",
    "\n",
    "def egcd(a, b):\n",
    "    if a == 0:\n",
    "        return (b, 0, 1)\n",
    "    else:\n",
    "        g, y, x = egcd(b % a, a)\n",
    "        return (g, x - (b // a) * y, y)\n",
    "\n",
    "def modinv(a, m):\n",
    "    g, x, y = egcd(a, m)\n",
    "    if g != 1:\n",
    "        raise Exception('modular inverse does not exist')\n",
    "    else:\n",
    "        return x % m"
   ]
  },
  {
   "cell_type": "code",
   "execution_count": 181,
   "metadata": {},
   "outputs": [
    {
     "data": {
      "text/plain": [
       "527"
      ]
     },
     "execution_count": 181,
     "metadata": {},
     "output_type": "execute_result"
    }
   ],
   "source": [
    "modinv(157, 2018)"
   ]
  },
  {
   "cell_type": "markdown",
   "metadata": {},
   "source": [
    "# extended euclidean algo"
   ]
  },
  {
   "cell_type": "code",
   "execution_count": 185,
   "metadata": {
    "collapsed": true
   },
   "outputs": [],
   "source": [
    "def breakdown(l, s):\n",
    "    times = int(l/s)\n",
    "    resid = l%s\n",
    "    return l, s, times, resid\n",
    "\n",
    "def euclidean_algo(l, s):\n",
    "    while s != 1:\n",
    "        l, s, times, resid = breakdown(l, s)\n",
    "        print('{} = {}x({}) + {}'.format(l, s, times, resid))\n",
    "        l = s\n",
    "        s = resid\n",
    "\n",
    "def extended_euclidean_algo(l, s):\n",
    "    l_l, l_s, l_times, l_resid = [], [], [], []\n",
    "    while s != 1:\n",
    "        l, s, times, resid = breakdown(l, s)\n",
    "        l_l.append(l)\n",
    "        l_s.append(s)\n",
    "        l_times.append(times)\n",
    "        l_resid.append(resid)\n",
    "        print('{} = {}x({}) + {}'.format(l, s, times, resid))\n",
    "        l = s\n",
    "        s = resid\n",
    "    print('====')\n",
    "    for i in range(1,len(l_l)+1):\n",
    "        print(l_resid[-i], '=', l_l[-i], '-', l_s[-i], 'x',l_times[-i])"
   ]
  },
  {
   "cell_type": "code",
   "execution_count": 186,
   "metadata": {
    "scrolled": false
   },
   "outputs": [
    {
     "name": "stdout",
     "output_type": "stream",
     "text": [
      "2018 = 157x(12) + 134\n",
      "157 = 134x(1) + 23\n",
      "134 = 23x(5) + 19\n",
      "23 = 19x(1) + 4\n",
      "19 = 4x(4) + 3\n",
      "4 = 3x(1) + 1\n"
     ]
    }
   ],
   "source": [
    "euclidean_algo(2018, 157)"
   ]
  },
  {
   "cell_type": "code",
   "execution_count": 187,
   "metadata": {
    "scrolled": false
   },
   "outputs": [
    {
     "name": "stdout",
     "output_type": "stream",
     "text": [
      "2018 = 157x(12) + 134\n",
      "157 = 134x(1) + 23\n",
      "134 = 23x(5) + 19\n",
      "23 = 19x(1) + 4\n",
      "19 = 4x(4) + 3\n",
      "4 = 3x(1) + 1\n",
      "====\n",
      "1 = 4 - 3 x 1\n",
      "3 = 19 - 4 x 4\n",
      "4 = 23 - 19 x 1\n",
      "19 = 134 - 23 x 5\n",
      "23 = 157 - 134 x 1\n",
      "134 = 2018 - 157 x 12\n"
     ]
    }
   ],
   "source": [
    "extended_euclidean_algo(2018, 157)"
   ]
  },
  {
   "cell_type": "markdown",
   "metadata": {},
   "source": [
    "# solving Discrete Log"
   ]
  },
  {
   "cell_type": "code",
   "execution_count": 255,
   "metadata": {
    "collapsed": true
   },
   "outputs": [],
   "source": [
    "def solve_DL(x, y, mod):\n",
    "    i = 0\n",
    "    while True:\n",
    "        print(x, '^', i, '=', x**i % mod)\n",
    "        if x**i % mod == y:\n",
    "            return print('answer is', i)\n",
    "        i += 1"
   ]
  },
  {
   "cell_type": "code",
   "execution_count": 256,
   "metadata": {},
   "outputs": [
    {
     "name": "stdout",
     "output_type": "stream",
     "text": [
      "16 ^ 0 = 1\n",
      "16 ^ 1 = 16\n",
      "16 ^ 2 = 54\n",
      "16 ^ 3 = 56\n",
      "16 ^ 4 = 88\n",
      "16 ^ 5 = 95\n",
      "16 ^ 6 = 5\n",
      "16 ^ 7 = 80\n",
      "16 ^ 8 = 68\n",
      "16 ^ 9 = 78\n",
      "16 ^ 10 = 36\n",
      "16 ^ 11 = 71\n",
      "16 ^ 12 = 25\n",
      "16 ^ 13 = 97\n",
      "16 ^ 14 = 37\n",
      "16 ^ 15 = 87\n",
      "16 ^ 16 = 79\n",
      "16 ^ 17 = 52\n",
      "16 ^ 18 = 24\n",
      "answer is 18\n"
     ]
    }
   ],
   "source": [
    "solve_DL(16, 24, 101)"
   ]
  },
  {
   "cell_type": "markdown",
   "metadata": {},
   "source": [
    "# Elliptic Curve"
   ]
  },
  {
   "cell_type": "code",
   "execution_count": 262,
   "metadata": {},
   "outputs": [],
   "source": [
    "## Elliptic Curve possibile G points:\n",
    "\n",
    "def EC_possible_points_table(mod, a, b):\n",
    "    # a = coe of x\n",
    "    # b = intercept\n",
    "    print('x:')\n",
    "    for x in range(mod):\n",
    "        print(x, '|',  (x**3 + 3*a + b )% mod)\n",
    "\n",
    "    print('===')    \n",
    "    print('y:')\n",
    "    for y in range(mod):\n",
    "        print(y, '|', y**2 % mod)"
   ]
  },
  {
   "cell_type": "code",
   "execution_count": 263,
   "metadata": {},
   "outputs": [
    {
     "name": "stdout",
     "output_type": "stream",
     "text": [
      "x:\n",
      "0 | 7\n",
      "1 | 8\n",
      "2 | 4\n",
      "3 | 1\n",
      "4 | 5\n",
      "5 | 0\n",
      "6 | 3\n",
      "7 | 9\n",
      "8 | 2\n",
      "9 | 10\n",
      "10 | 6\n",
      "===\n",
      "y:\n",
      "0 | 0\n",
      "1 | 1\n",
      "2 | 4\n",
      "3 | 9\n",
      "4 | 5\n",
      "5 | 3\n",
      "6 | 3\n",
      "7 | 5\n",
      "8 | 9\n",
      "9 | 4\n",
      "10 | 1\n"
     ]
    }
   ],
   "source": [
    "EC_possible_points_table(11, 2, 1)"
   ]
  },
  {
   "cell_type": "code",
   "execution_count": 242,
   "metadata": {},
   "outputs": [],
   "source": [
    "## Find 2P (tangent)\n",
    "def EC_2P(x, y, a, mod):\n",
    "    # a is coe for x\n",
    "    \n",
    "    s1 = 3*(x**2) + a\n",
    "    s2 = 2*y\n",
    "    s3 = modinv(s2, mod)\n",
    "    s = s1*s3 % mod\n",
    "    print('slope =', s)\n",
    "    print('----')\n",
    "\n",
    "    x_ans = (s**2 - 2*x) % mod\n",
    "    print('x_ans =', x_ans)\n",
    "\n",
    "    y_ans = (s*(x - x_ans) - y) % mod\n",
    "    print('y_ans =', y_ans)"
   ]
  },
  {
   "cell_type": "code",
   "execution_count": 244,
   "metadata": {},
   "outputs": [
    {
     "name": "stdout",
     "output_type": "stream",
     "text": [
      "slope = 3\n",
      "----\n",
      "x_ans = 2\n",
      "y_ans = 1\n"
     ]
    }
   ],
   "source": [
    "EC_2P(1, 1, 3, 5)"
   ]
  },
  {
   "cell_type": "code",
   "execution_count": 245,
   "metadata": {},
   "outputs": [],
   "source": [
    "## Find P + Q\n",
    "def EC_PQ(x_P, y_P, x_Q, y_Q, a, mod):\n",
    "    # a is coe for x\n",
    "\n",
    "    if x_Q > x_P:\n",
    "        s1 = y_Q - y_P\n",
    "        s2 = x_Q - x_P\n",
    "    else:\n",
    "        s1 = y_P - y_Q\n",
    "        s2 = x_P - x_Q     \n",
    "    s3 = modinv(s2, mod)\n",
    "    s = s1*s3 % mod\n",
    "    print('slope =', s)\n",
    "    print('----')\n",
    "\n",
    "    x_ans = (s**2 - x_P - x_Q) % mod\n",
    "    print('x_ans =', x_ans)\n",
    "\n",
    "    y_ans = (s*(x_P - x_ans) - y_P) % mod\n",
    "    print('y_ans =', y_ans)"
   ]
  },
  {
   "cell_type": "code",
   "execution_count": 246,
   "metadata": {},
   "outputs": [
    {
     "name": "stdout",
     "output_type": "stream",
     "text": [
      "slope = 1\n",
      "----\n",
      "x_ans = 4\n",
      "y_ans = 2\n"
     ]
    }
   ],
   "source": [
    "EC_PQ(4,3, 3,2,3,5)"
   ]
  },
  {
   "cell_type": "markdown",
   "metadata": {},
   "source": [
    "# Prime Factor"
   ]
  },
  {
   "cell_type": "code",
   "execution_count": 22,
   "metadata": {
    "collapsed": true
   },
   "outputs": [],
   "source": [
    "def largest_prime_factor(n):\n",
    "    i = 2\n",
    "    while i * i <= n:\n",
    "        if n % i:\n",
    "            i += 1\n",
    "        else:\n",
    "            n //= i\n",
    "    return n\n",
    "\n",
    "def all_prime_factor(a):\n",
    "    list_prime = []\n",
    "    while largest_prime_factor(a) != a:\n",
    "        list_prime.append(largest_prime_factor(a))\n",
    "        a = int(a / largest_prime_factor(a))\n",
    "    list_prime.append(a)\n",
    "    return list_prime\n",
    "\n",
    "def all_prime_factor_set(a):\n",
    "    set_prime = set([])\n",
    "    while largest_prime_factor(a) != a:\n",
    "        set_prime.add(largest_prime_factor(a))\n",
    "        a = int(a / largest_prime_factor(a))\n",
    "    set_prime.add(a)\n",
    "    return set_prime"
   ]
  },
  {
   "cell_type": "code",
   "execution_count": 261,
   "metadata": {},
   "outputs": [
    {
     "data": {
      "text/plain": [
       "[571, 5, 2]"
      ]
     },
     "execution_count": 261,
     "metadata": {},
     "output_type": "execute_result"
    }
   ],
   "source": [
    "all_prime_factor(5710)"
   ]
  },
  {
   "cell_type": "markdown",
   "metadata": {},
   "source": [
    "# To-do\n",
    "3. Baby-step-giant-step\n",
    "\n",
    "## hand work\n",
    "1. Elliptic Curve find Q=NP (HW3)\n",
    "\n",
    "## Why\n",
    "1. how to use CRT\n",
    "2. Public Key Authority\n",
    "\n",
    "\n",
    "\n",
    "    "
   ]
  },
  {
   "cell_type": "markdown",
   "metadata": {},
   "source": [
    "# Cipher"
   ]
  },
  {
   "cell_type": "code",
   "execution_count": 239,
   "metadata": {},
   "outputs": [],
   "source": [
    "### Vigenere Cipher, good for Capital letter\n",
    "\n",
    "def vig_encrypt(plaintext, key):\n",
    "    key_length = len(key)\n",
    "    key_as_int = [ord(i) for i in key]\n",
    "    plaintext_int = [ord(i) for i in plaintext]\n",
    "    ciphertext = ''\n",
    "    for i in range(len(plaintext_int)):\n",
    "        value = (plaintext_int[i] + key_as_int[i % key_length]) % 26\n",
    "        ciphertext += chr(value + 65)\n",
    "    return ciphertext\n",
    "\n",
    "\n",
    "def vig_decrypt(ciphertext, key):\n",
    "    key_length = len(key)\n",
    "    key_as_int = [ord(i) for i in key]\n",
    "    ciphertext_int = [ord(i) for i in ciphertext]\n",
    "    plaintext = ''\n",
    "    for i in range(len(ciphertext_int)):\n",
    "        value = (ciphertext_int[i] - key_as_int[i % key_length]) % 26\n",
    "        plaintext += chr(value + 65)\n",
    "    return plaintext\n",
    "\n",
    "def turn_char_to_num(a_sentence):\n",
    "    for i in a_sentence:\n",
    "        print(i, '|', ord(i)-65)\n",
    "        \n",
    "def vig_cipher_by_kin(a_sentence, key):\n",
    "    for idx, i in enumerate(a_sentence):\n",
    "        mod = len(key)\n",
    "        minused = (ord(i)-65 + ord(key[idx%mod])-65) % 26\n",
    "        print(i, '|', ord(i)-65, '||',key[idx%mod], ord(key[idx%mod])-65, '=',\n",
    "              minused, chr(minused +65))"
   ]
  },
  {
   "cell_type": "code",
   "execution_count": 240,
   "metadata": {},
   "outputs": [
    {
     "name": "stdout",
     "output_type": "stream",
     "text": [
      "H | 7 || A 0 = 7 H\n",
      "E | 4 || B 1 = 5 F\n",
      "L | 11 || C 2 = 13 N\n",
      "L | 11 || D 3 = 14 O\n",
      "O | 14 || E 4 = 18 S\n",
      "W | 22 || A 0 = 22 W\n",
      "O | 14 || B 1 = 15 P\n",
      "R | 17 || C 2 = 19 T\n",
      "L | 11 || D 3 = 14 O\n",
      "Z | 25 || E 4 = 3 D\n"
     ]
    }
   ],
   "source": [
    "vig_cipher_by_kin('HELLOWORLZ','ABCDE')"
   ]
  },
  {
   "cell_type": "code",
   "execution_count": 241,
   "metadata": {},
   "outputs": [
    {
     "data": {
      "text/plain": [
       "'HFNOSWPTOD'"
      ]
     },
     "execution_count": 241,
     "metadata": {},
     "output_type": "execute_result"
    }
   ],
   "source": [
    "vig_encrypt('HELLOWORLZ','ABCDE')"
   ]
  },
  {
   "cell_type": "code",
   "execution_count": null,
   "metadata": {
    "collapsed": true
   },
   "outputs": [],
   "source": []
  }
 ],
 "metadata": {
  "anaconda-cloud": {},
  "kernelspec": {
   "display_name": "Python [default]",
   "language": "python",
   "name": "python3"
  },
  "language_info": {
   "codemirror_mode": {
    "name": "ipython",
    "version": 3
   },
   "file_extension": ".py",
   "mimetype": "text/x-python",
   "name": "python",
   "nbconvert_exporter": "python",
   "pygments_lexer": "ipython3",
   "version": "3.5.2"
  }
 },
 "nbformat": 4,
 "nbformat_minor": 2
}
