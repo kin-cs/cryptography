{
 "cells": [
  {
   "cell_type": "code",
   "execution_count": 3,
   "metadata": {
    "collapsed": true
   },
   "outputs": [],
   "source": [
    "import math\n",
    "\n",
    "def phi(n):\n",
    "    amount = 0        \n",
    "    for k in range(1, n + 1):\n",
    "        if math.gcd(n, k) == 1:\n",
    "            amount += 1\n",
    "    return amount"
   ]
  },
  {
   "cell_type": "code",
   "execution_count": 15,
   "metadata": {
    "collapsed": true
   },
   "outputs": [],
   "source": [
    "def egcd(a, b):\n",
    "    if a == 0:\n",
    "        return (b, 0, 1)\n",
    "    else:\n",
    "        g, y, x = egcd(b % a, a)\n",
    "        return (g, x - (b // a) * y, y)\n",
    "\n",
    "def modinv(a, m):\n",
    "    g, x, y = egcd(a, m)\n",
    "    if g != 1:\n",
    "        raise Exception('modular inverse does not exist')\n",
    "    else:\n",
    "        return x % m"
   ]
  },
  {
   "cell_type": "code",
   "execution_count": 45,
   "metadata": {},
   "outputs": [
    {
     "data": {
      "text/plain": [
       "527"
      ]
     },
     "execution_count": 45,
     "metadata": {},
     "output_type": "execute_result"
    }
   ],
   "source": [
    "modinv(157, 2018)"
   ]
  },
  {
   "cell_type": "code",
   "execution_count": 22,
   "metadata": {},
   "outputs": [],
   "source": [
    "def largest_prime_factor(n):\n",
    "    i = 2\n",
    "    while i * i <= n:\n",
    "        if n % i:\n",
    "            i += 1\n",
    "        else:\n",
    "            n //= i\n",
    "    return n\n",
    "\n",
    "def all_prime_factor(a):\n",
    "    list_prime = []\n",
    "    while largest_prime_factor(a) != a:\n",
    "        list_prime.append(largest_prime_factor(a))\n",
    "        a = int(a / largest_prime_factor(a))\n",
    "    list_prime.append(a)\n",
    "    return list_prime"
   ]
  },
  {
   "cell_type": "code",
   "execution_count": 41,
   "metadata": {
    "collapsed": true
   },
   "outputs": [],
   "source": [
    "def all_prime_factor_set(a):\n",
    "    set_prime = set([])\n",
    "    while largest_prime_factor(a) != a:\n",
    "        set_prime.add(largest_prime_factor(a))\n",
    "        a = int(a / largest_prime_factor(a))\n",
    "    set_prime.add(a)\n",
    "    return set_prime"
   ]
  },
  {
   "cell_type": "code",
   "execution_count": 44,
   "metadata": {},
   "outputs": [
    {
     "data": {
      "text/plain": [
       "[571, 5, 2]"
      ]
     },
     "execution_count": 44,
     "metadata": {},
     "output_type": "execute_result"
    }
   ],
   "source": [
    "all_prime_factor(5710)"
   ]
  },
  {
   "cell_type": "markdown",
   "metadata": {},
   "source": [
    "# To-do\n",
    "1. def euclidean_algo_procedure(a, b): (DONE)\n",
    "    "
   ]
  },
  {
   "cell_type": "code",
   "execution_count": 93,
   "metadata": {
    "collapsed": true
   },
   "outputs": [],
   "source": [
    "def breakdown(l, s):\n",
    "    times = int(l/s)\n",
    "    resid = l%s\n",
    "    return l, s, times, resid\n",
    "\n",
    "def euclidean_algo(l, s):\n",
    "    while s != 1:\n",
    "        l, s, times, resid = breakdown(l, s)\n",
    "        print('{} = {}x({}) + {}'.format(l, s, times, resid))\n",
    "        l = s\n",
    "        s = resid\n",
    "\n",
    "def extended_euclidean_algo(l, s):\n",
    "    l_l, l_s, l_times, l_resid = [], [], [], []\n",
    "    while s != 1:\n",
    "        l, s, times, resid = breakdown(l, s)\n",
    "        l_l.append(l)\n",
    "        l_s.append(s)\n",
    "        l_times.append(times)\n",
    "        l_resid.append(resid)\n",
    "        print('{} = {}x({}) + {}'.format(l, s, times, resid))\n",
    "        l = s\n",
    "        s = resid\n",
    "    ...."
   ]
  },
  {
   "cell_type": "code",
   "execution_count": 94,
   "metadata": {},
   "outputs": [
    {
     "name": "stdout",
     "output_type": "stream",
     "text": [
      "2018 = 157x(12) + 134\n",
      "157 = 134x(1) + 23\n",
      "134 = 23x(5) + 19\n",
      "23 = 19x(1) + 4\n",
      "19 = 4x(4) + 3\n",
      "4 = 3x(1) + 1\n"
     ]
    }
   ],
   "source": [
    "euclidean_algo(2018, 157)"
   ]
  },
  {
   "cell_type": "code",
   "execution_count": 90,
   "metadata": {},
   "outputs": [
    {
     "data": {
      "text/plain": [
       "True"
      ]
     },
     "execution_count": 90,
     "metadata": {},
     "output_type": "execute_result"
    }
   ],
   "source": [
    "1 = 4 + 3*(-1)"
   ]
  },
  {
   "cell_type": "code",
   "execution_count": null,
   "metadata": {
    "collapsed": true
   },
   "outputs": [],
   "source": []
  }
 ],
 "metadata": {
  "anaconda-cloud": {},
  "kernelspec": {
   "display_name": "Python [default]",
   "language": "python",
   "name": "python3"
  },
  "language_info": {
   "codemirror_mode": {
    "name": "ipython",
    "version": 3
   },
   "file_extension": ".py",
   "mimetype": "text/x-python",
   "name": "python",
   "nbconvert_exporter": "python",
   "pygments_lexer": "ipython3",
   "version": "3.5.2"
  }
 },
 "nbformat": 4,
 "nbformat_minor": 2
}
